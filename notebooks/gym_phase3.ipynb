{
 "cells": [
  {
   "cell_type": "code",
   "execution_count": 1,
   "metadata": {},
   "outputs": [],
   "source": [
    "import seaborn as sns\n",
    "import pandas as pd\n",
    "import numpy as np\n",
    "import math\n",
    "import matplotlib\n",
    "import matplotlib.pyplot as plt\n",
    "from matplotlib.patches import Ellipse\n",
    "import matplotlib.transforms as transforms\n",
    "import matplotlib.ticker as ticker\n",
    "matplotlib.use(\"pgf\")\n",
    "matplotlib.rcParams.update({\n",
    "    \"pgf.texsystem\": \"pdflatex\",\n",
    "    'font.family': 'serif',\n",
    "    'text.usetex': True,\n",
    "    'pgf.rcfonts': False,\n",
    "})\n",
    "%matplotlib inline\n",
    "import re\n",
    "from os import listdir\n",
    "from os.path import isfile, join"
   ]
  },
  {
   "cell_type": "code",
   "execution_count": 2,
   "metadata": {},
   "outputs": [],
   "source": [
    "def ReadData(policyList):\n",
    "    fullDf = None\n",
    "    fullTime = None\n",
    "    for i in range(0, len(policyList)):\n",
    "        policy = policyList[i]\n",
    "        dFilename = 'phase3/' + policy + \"_gym_metrics.csv\"\n",
    "        tFilename = 'phase3/' + policy + \"_gym_time.csv\"\n",
    "        dataFrame = pd.read_csv(dFilename)\n",
    "        timeFrame = pd.read_csv(tFilename)\n",
    "        if (i == 0):\n",
    "            fullDf = dataFrame\n",
    "            fullTime = timeFrame\n",
    "        else:\n",
    "            fullDf = pd.concat([dataFrame, fullDf], axis=0)\n",
    "            fullTime = pd.concat([timeFrame, fullTime], axis=0)\n",
    "    return fullDf, fullTime\n",
    "        "
   ]
  },
  {
   "cell_type": "code",
   "execution_count": 3,
   "metadata": {},
   "outputs": [
    {
     "name": "stdout",
     "output_type": "stream",
     "text": [
      "Generating Simulated Graphs\n",
      "['Unnamed: 0', 'DistScore', 'Force', 'Blame', 'Policy', 'Human Count', 'Total Time', 'Trial']\n",
      "['Unnamed: 0', 'Trial', 'Human Count', 'Success', 'Collision', 'Final Time', 'Reward', 'Policy']\n"
     ]
    }
   ],
   "source": [
    "# Load Data\n",
    "# Generating All graphs for Simulation\n",
    "print(\"Generating Simulated Graphs\")\n",
    "policyList = ['Ref', 'PPO', 'PIPS', 'BC', 'GAIL', 'DQN', 'GoAlone']\n",
    "fullDf, fullTime = ReadData(policyList)\n",
    "# Renaming\n",
    "averageDf = fullDf\n",
    "print(list(fullDf.columns))\n",
    "print(list(fullTime.columns))"
   ]
  },
  {
   "cell_type": "code",
   "execution_count": 4,
   "metadata": {},
   "outputs": [],
   "source": [
    "# Setup SNS settings\n",
    "sns.set_style(\"ticks\", {\"xtick.major.size\": 8, \"ytick.major.size\": 8, \"axes.facecolor\": \"0.95\"})\n",
    "columnwidth = 3.40067\n",
    "linewidth = 7.00137\n",
    "#columnwidth = 9.40067\n",
    "#linewidth = 21.00137\n",
    "sns.set_context(\"paper\", rc={\"font.size\":2,\"axes.titlesize\":2,\"axes.labelsize\":8})   \n"
   ]
  },
  {
   "cell_type": "code",
   "execution_count": 5,
   "metadata": {
    "scrolled": true
   },
   "outputs": [
    {
     "data": {
      "image/png": "[encoded data removed]",
      "text/plain": [
       "<Figure size 126.025x75.6148 with 1 Axes>"
      ]
     },
     "metadata": {},
     "output_type": "display_data"
    }
   ],
   "source": [
    "# Force Line Plots\n",
    "\n",
    "dashes = [\"\", (1, 1), (2, 2), (3,3), (4,4), (5,5), (6,6)]\n",
    "palette = ['red', 'green', 'orange', 'purple', 'blue', 'brown', 'black']\n",
    "hue_order = ['GoAlone', 'Ref', 'DQN', 'PPO', 'BC', 'GAIL', 'PIPS']\n",
    "plot = sns.lineplot(data=averageDf, ci=99, x=\"Human Count\", y=\"Force\", hue=\"Policy\", style=\"Policy\", palette=palette, hue_order=hue_order, style_order=hue_order,dashes=dashes, legend=None)\n",
    "\n",
    "# Plot Settings\n",
    "#plt.xlim(2, 20)\n",
    "#plt.ylim(0, 0.8)\n",
    "plt.tight_layout()\n",
    "fig = matplotlib.pyplot.gcf()\n",
    "fig.set_size_inches(w=0.25*linewidth, h=0.15*linewidth)\n",
    "# Plot Settings# Plot Settings\n",
    "plt.xticks(fontsize=6)\n",
    "plt.yticks(fontsize=6)\n",
    "\n",
    "plt.xlabel(\"Human Count\",labelpad=0)\n",
    "plt.ylabel(\"Force\",labelpad=0.3)\n",
    "plt.margins(0,0)\n",
    "plt.grid()\n",
    "#plt.show()\n",
    "plt.savefig(\"phase3/force.pgf\", bbox_inches = 'tight', pad_inches = 0) "
   ]
  },
  {
   "cell_type": "code",
   "execution_count": null,
   "metadata": {},
   "outputs": [],
   "source": [
    "# Blame Line Plot\n",
    "dashes = [\"\", (1, 1), (2, 2), (3,3), (4,4), (5,5), (6,6)]\n",
    "palette = ['red', 'green', 'orange', 'purple', 'blue', 'brown', 'black']\n",
    "hue_order = ['GoAlone', 'Ref', 'DQN', 'PPO', 'BC', 'GAIL', 'PIPS']\n",
    "plot = sns.lineplot(data=averageDf, ci=99, x=\"Human Count\", y=\"Blame\", hue=\"Policy\", palette=palette, hue_order=hue_order, style=\"Policy\", style_order=hue_order,dashes=dashes, legend=None)\n",
    "\n",
    "# Plot Settings\n",
    "#plt.xlim(2, 20)\n",
    "#plt.ylim(0.0, 0.25)\n",
    "plt.tight_layout()\n",
    "fig = matplotlib.pyplot.gcf()\n",
    "fig.set_size_inches(w=0.25*linewidth, h=0.15*linewidth)\n",
    "plt.xticks(fontsize=6)\n",
    "plt.yticks(fontsize=6)\n",
    "#plot.set_yticks([0.01, 0.02, 0.03]) # <--- set the ticks first\n",
    "#plot.set_yticklabels(['0.01','0.02','0.03'])\n",
    "plt.xlabel(\"Human Count\",labelpad=0.1)\n",
    "plt.ylabel(\"Blame\",labelpad=0.3)\n",
    "plt.margins(0,0)\n",
    "plt.grid()\n",
    "#plt.show()\n",
    "\n",
    "\n",
    "plt.savefig(\"phase3/blame.pgf\", bbox_inches = 'tight', pad_inches = 0) "
   ]
  },
  {
   "cell_type": "code",
   "execution_count": null,
   "metadata": {},
   "outputs": [],
   "source": [
    "# Time Line Graph   \n",
    "kws = {\"linewidth\" : 0.0}\n",
    "dashes = [\"\", (1, 1), (2, 2), (3,3), (4,4), (5,5), (6,6)]\n",
    "palette = ['red', 'green', 'orange', 'purple', 'blue', 'brown', 'black']\n",
    "hue_order = ['GoAlone', 'Ref', 'DQN', 'PPO', 'BC', 'GAIL', 'PIPS']\n",
    "plot = sns.lineplot(x=\"Human Count\", y=\"Final Time\", hue=\"Policy\", dashes=dashes,style_order=hue_order, style=\"Policy\", palette=palette, hue_order=hue_order, data=fullTime,  err_kws = kws, legend=\"brief\");\n",
    "\n",
    "# Plot Settings\n",
    "plot.legend(loc=2, bbox_to_anchor=(1.01, 1.0), frameon=True)\n",
    "\n",
    "plt.xlim(5, 25)\n",
    "plt.tight_layout()\n",
    "fig = matplotlib.pyplot.gcf()\n",
    "fig.set_size_inches(w=0.30*linewidth, h=0.15*linewidth)\n",
    "plt.xticks(fontsize=6)\n",
    "plt.yticks(fontsize=6)\n",
    "plt.setp(plot.get_legend().get_texts(), fontsize='6') # for legend text\n",
    "plt.setp(plot.get_legend().get_title(), fontsize='6') # for legend title,\n",
    "plt.xlabel(\"Human Count\",labelpad=0)\n",
    "plt.ylabel(\"Time To Goal\",labelpad=0.3)\n",
    "plt.margins(0,0)\n",
    "plt.grid()\n",
    "# Save Plot to File\n",
    "\n",
    "plt.savefig(\"phase3/time.pgf\", bbox_inches = 'tight', pad_inches = 0) "
   ]
  },
  {
   "cell_type": "code",
   "execution_count": null,
   "metadata": {},
   "outputs": [],
   "source": [
    "print(\"Success Rates\")\n",
    "refDf = fullTime[fullTime[\"Policy\"] == \"Ref\"]\n",
    "gaDf = fullTime[fullTime[\"Policy\"] == \"GoAlone\"]\n",
    "gaDf = gaDf.head(2000)\n",
    "pipsDf = fullTime[fullTime[\"Policy\"] == \"PIPS\"]\n",
    "bcDf = fullTime[fullTime[\"Policy\"] == \"BC\"]\n",
    "gailDf = fullTime[fullTime[\"Policy\"] == \"GAIL\"]\n",
    "ppoDf = fullTime[fullTime[\"Policy\"] == \"PPO\"]\n",
    "dqnDf = fullTime[fullTime[\"Policy\"] == \"DQN\"]\n",
    "print(\"Total Episodes: \" + str(len(refDf['Success'])))\n",
    "print(\"Successful Episodes\")\n",
    "print(\"Ref: \" + str(refDf['Success'].value_counts() / 2000))\n",
    "print(\"GA: \" + str(gaDf['Success'].value_counts() / 2000))\n",
    "print(\"PIPS: \" + str(pipsDf['Success'].value_counts() / 2000))\n",
    "print(\"BC: \" + str(bcDf['Success'].value_counts() / 2000))\n",
    "print(\"GAIL: \" + str(gailDf['Success'].value_counts()/ 2000))\n",
    "print(\"PPO: \" + str(ppoDf['Success'].value_counts() / 2000))\n",
    "print(\"DQN: \" + str(dqnDf['Success'].value_counts() / 2000))"
   ]
  }
 ],
 "metadata": {
  "kernelspec": {
   "display_name": "Python 3",
   "language": "python",
   "name": "python3"
  },
  "language_info": {
   "codemirror_mode": {
    "name": "ipython",
    "version": 3
   },
   "file_extension": ".py",
   "mimetype": "text/x-python",
   "name": "python",
   "nbconvert_exporter": "python",
   "pygments_lexer": "ipython3",
   "version": "3.8.10"
  }
 },
 "nbformat": 4,
 "nbformat_minor": 4
}
